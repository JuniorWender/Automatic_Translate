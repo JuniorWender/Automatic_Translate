{
 "cells": [
  {
   "cell_type": "code",
   "execution_count": null,
   "id": "960b375f-4637-4800-a1eb-14767edf5586",
   "metadata": {
    "tags": []
   },
   "outputs": [],
   "source": [
    "import pandas as pd\n",
    "\n",
    "tabela = pd.read_excel(\"IdiomasAMT.xlsx\") # Import a xlsx file\n",
    "\n",
    "display(tabela) # show this xlsx file"
   ]
  },
  {
   "cell_type": "code",
   "execution_count": null,
   "id": "59519db1",
   "metadata": {},
   "outputs": [],
   "source": [
    "for linha, CodigoMenu in enumerate(tabela[\"CODIGOITEMMENU\"]): \n",
    "    Idioma = tabela.loc[linha, \"CODIGOIDIOMA\"]\n",
    "    Nome = tabela.loc[linha, \"NOMEITEMMENU\"]\n",
    "    Adicionar_Alterar = tabela.loc[linha, \"ADICIONA/ALTERA\"]\n",
    "    Testagem = tabela.loc[linha, \"FAZER\"]\n",
    "    Codigo_Completo = []\n",
    " \n",
    "    if (Adicionar_Alterar == \"alterar\"):\n",
    "        Codigo_Completo = \"UPDATE IDIOMASMENU SET NOMEITEMMENU = \" + \"'\" + Nome + \"'\" + \" WHERE CODIGOITEMMENU = \" + str(CodigoMenu) + \" AND CODIGOIDIOMA = \" + \"'\" + Idioma + \"' ;\"\n",
    "        print(Codigo_Completo)\n",
    "        print(\"\")\n",
    "    if (Adicionar_Alterar == \"adicionar\"):\n",
    "        Codigo_Completo = \"INSERT INTO IDIOMASMENU (CODIGOITEMMENU, CODIGOIDIOMA, NOMEITEMMENU) VALUES( \" + str(CodigoMenu) + \", '\" + Idioma + \"' ,\" + \"'\" + Nome +\"' ) ;\"\n",
    "        print(Codigo_Completo)\n",
    "        print(\"\")"
   ]
  }
 ],
 "metadata": {
  "interpreter": {
   "hash": "9084d86a41b7d5e03066777452817f172ea3e21b2d8e2f27ffb6853589020e96"
  },
  "kernelspec": {
   "display_name": "Python 3.9.12 ('base')",
   "language": "python",
   "name": "python3"
  },
  "language_info": {
   "codemirror_mode": {
    "name": "ipython",
    "version": 3
   },
   "file_extension": ".py",
   "mimetype": "text/x-python",
   "name": "python",
   "nbconvert_exporter": "python",
   "pygments_lexer": "ipython3",
   "version": "3.9.12"
  }
 },
 "nbformat": 4,
 "nbformat_minor": 5
}
